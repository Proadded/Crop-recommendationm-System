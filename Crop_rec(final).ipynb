{
 "cells": [
  {
   "cell_type": "code",
   "execution_count": 1,
   "id": "8e8c49a8-d193-4163-8c57-ef25a00abf61",
   "metadata": {},
   "outputs": [
    {
     "data": {
      "text/html": [
       "<div>\n",
       "<style scoped>\n",
       "    .dataframe tbody tr th:only-of-type {\n",
       "        vertical-align: middle;\n",
       "    }\n",
       "\n",
       "    .dataframe tbody tr th {\n",
       "        vertical-align: top;\n",
       "    }\n",
       "\n",
       "    .dataframe thead th {\n",
       "        text-align: right;\n",
       "    }\n",
       "</style>\n",
       "<table border=\"1\" class=\"dataframe\">\n",
       "  <thead>\n",
       "    <tr style=\"text-align: right;\">\n",
       "      <th></th>\n",
       "      <th>N</th>\n",
       "      <th>P</th>\n",
       "      <th>K</th>\n",
       "      <th>temperature</th>\n",
       "      <th>humidity</th>\n",
       "      <th>ph</th>\n",
       "      <th>rainfall</th>\n",
       "      <th>label</th>\n",
       "    </tr>\n",
       "  </thead>\n",
       "  <tbody>\n",
       "    <tr>\n",
       "      <th>0</th>\n",
       "      <td>90</td>\n",
       "      <td>42</td>\n",
       "      <td>43</td>\n",
       "      <td>20.879744</td>\n",
       "      <td>82.002744</td>\n",
       "      <td>6.502985</td>\n",
       "      <td>202.935536</td>\n",
       "      <td>rice</td>\n",
       "    </tr>\n",
       "    <tr>\n",
       "      <th>1</th>\n",
       "      <td>85</td>\n",
       "      <td>58</td>\n",
       "      <td>41</td>\n",
       "      <td>21.770462</td>\n",
       "      <td>80.319644</td>\n",
       "      <td>7.038096</td>\n",
       "      <td>226.655537</td>\n",
       "      <td>rice</td>\n",
       "    </tr>\n",
       "    <tr>\n",
       "      <th>2</th>\n",
       "      <td>60</td>\n",
       "      <td>55</td>\n",
       "      <td>44</td>\n",
       "      <td>23.004459</td>\n",
       "      <td>82.320763</td>\n",
       "      <td>7.840207</td>\n",
       "      <td>263.964248</td>\n",
       "      <td>rice</td>\n",
       "    </tr>\n",
       "    <tr>\n",
       "      <th>3</th>\n",
       "      <td>74</td>\n",
       "      <td>35</td>\n",
       "      <td>40</td>\n",
       "      <td>26.491096</td>\n",
       "      <td>80.158363</td>\n",
       "      <td>6.980401</td>\n",
       "      <td>242.864034</td>\n",
       "      <td>rice</td>\n",
       "    </tr>\n",
       "    <tr>\n",
       "      <th>4</th>\n",
       "      <td>78</td>\n",
       "      <td>42</td>\n",
       "      <td>42</td>\n",
       "      <td>20.130175</td>\n",
       "      <td>81.604873</td>\n",
       "      <td>7.628473</td>\n",
       "      <td>262.717340</td>\n",
       "      <td>rice</td>\n",
       "    </tr>\n",
       "  </tbody>\n",
       "</table>\n",
       "</div>"
      ],
      "text/plain": [
       "    N   P   K  temperature   humidity        ph    rainfall label\n",
       "0  90  42  43    20.879744  82.002744  6.502985  202.935536  rice\n",
       "1  85  58  41    21.770462  80.319644  7.038096  226.655537  rice\n",
       "2  60  55  44    23.004459  82.320763  7.840207  263.964248  rice\n",
       "3  74  35  40    26.491096  80.158363  6.980401  242.864034  rice\n",
       "4  78  42  42    20.130175  81.604873  7.628473  262.717340  rice"
      ]
     },
     "execution_count": 1,
     "metadata": {},
     "output_type": "execute_result"
    }
   ],
   "source": [
    "import pandas as pd\n",
    "import numpy as np\n",
    "crop = pd.read_csv('Crop_recommendation.csv')\n",
    "crop.head()"
   ]
  },
  {
   "cell_type": "code",
   "execution_count": 2,
   "id": "86c7794a-4e71-4536-b257-3dfda20a6ce3",
   "metadata": {},
   "outputs": [
    {
     "name": "stdout",
     "output_type": "stream",
     "text": [
      "<class 'pandas.core.frame.DataFrame'>\n",
      "RangeIndex: 2200 entries, 0 to 2199\n",
      "Data columns (total 8 columns):\n",
      " #   Column       Non-Null Count  Dtype  \n",
      "---  ------       --------------  -----  \n",
      " 0   N            2200 non-null   int64  \n",
      " 1   P            2200 non-null   int64  \n",
      " 2   K            2200 non-null   int64  \n",
      " 3   temperature  2200 non-null   float64\n",
      " 4   humidity     2200 non-null   float64\n",
      " 5   ph           2200 non-null   float64\n",
      " 6   rainfall     2200 non-null   float64\n",
      " 7   label        2200 non-null   object \n",
      "dtypes: float64(4), int64(3), object(1)\n",
      "memory usage: 137.6+ KB\n"
     ]
    }
   ],
   "source": [
    "crop.shape\n",
    "crop.info()"
   ]
  },
  {
   "cell_type": "code",
   "execution_count": 3,
   "id": "cb22bb75-33d9-4ae1-8807-eb6f7c1c105b",
   "metadata": {},
   "outputs": [
    {
     "data": {
      "text/plain": [
       "N              0\n",
       "P              0\n",
       "K              0\n",
       "temperature    0\n",
       "humidity       0\n",
       "ph             0\n",
       "rainfall       0\n",
       "label          0\n",
       "dtype: int64"
      ]
     },
     "execution_count": 3,
     "metadata": {},
     "output_type": "execute_result"
    }
   ],
   "source": [
    "crop.isnull().sum()"
   ]
  },
  {
   "cell_type": "code",
   "execution_count": 4,
   "id": "cf37bbe6-f031-44b8-89e7-4e0fcfad7d04",
   "metadata": {},
   "outputs": [
    {
     "data": {
      "text/plain": [
       "0"
      ]
     },
     "execution_count": 4,
     "metadata": {},
     "output_type": "execute_result"
    }
   ],
   "source": [
    "crop.duplicated().sum()"
   ]
  },
  {
   "cell_type": "code",
   "execution_count": 5,
   "id": "370f320d-47df-4bb2-8580-a530f256a3bf",
   "metadata": {},
   "outputs": [
    {
     "data": {
      "text/html": [
       "<div>\n",
       "<style scoped>\n",
       "    .dataframe tbody tr th:only-of-type {\n",
       "        vertical-align: middle;\n",
       "    }\n",
       "\n",
       "    .dataframe tbody tr th {\n",
       "        vertical-align: top;\n",
       "    }\n",
       "\n",
       "    .dataframe thead th {\n",
       "        text-align: right;\n",
       "    }\n",
       "</style>\n",
       "<table border=\"1\" class=\"dataframe\">\n",
       "  <thead>\n",
       "    <tr style=\"text-align: right;\">\n",
       "      <th></th>\n",
       "      <th>N</th>\n",
       "      <th>P</th>\n",
       "      <th>K</th>\n",
       "      <th>temperature</th>\n",
       "      <th>humidity</th>\n",
       "      <th>ph</th>\n",
       "      <th>rainfall</th>\n",
       "    </tr>\n",
       "  </thead>\n",
       "  <tbody>\n",
       "    <tr>\n",
       "      <th>count</th>\n",
       "      <td>2200.000000</td>\n",
       "      <td>2200.000000</td>\n",
       "      <td>2200.000000</td>\n",
       "      <td>2200.000000</td>\n",
       "      <td>2200.000000</td>\n",
       "      <td>2200.000000</td>\n",
       "      <td>2200.000000</td>\n",
       "    </tr>\n",
       "    <tr>\n",
       "      <th>mean</th>\n",
       "      <td>50.551818</td>\n",
       "      <td>53.362727</td>\n",
       "      <td>48.149091</td>\n",
       "      <td>25.616244</td>\n",
       "      <td>71.481779</td>\n",
       "      <td>6.469480</td>\n",
       "      <td>103.463655</td>\n",
       "    </tr>\n",
       "    <tr>\n",
       "      <th>std</th>\n",
       "      <td>36.917334</td>\n",
       "      <td>32.985883</td>\n",
       "      <td>50.647931</td>\n",
       "      <td>5.063749</td>\n",
       "      <td>22.263812</td>\n",
       "      <td>0.773938</td>\n",
       "      <td>54.958389</td>\n",
       "    </tr>\n",
       "    <tr>\n",
       "      <th>min</th>\n",
       "      <td>0.000000</td>\n",
       "      <td>5.000000</td>\n",
       "      <td>5.000000</td>\n",
       "      <td>8.825675</td>\n",
       "      <td>14.258040</td>\n",
       "      <td>3.504752</td>\n",
       "      <td>20.211267</td>\n",
       "    </tr>\n",
       "    <tr>\n",
       "      <th>25%</th>\n",
       "      <td>21.000000</td>\n",
       "      <td>28.000000</td>\n",
       "      <td>20.000000</td>\n",
       "      <td>22.769375</td>\n",
       "      <td>60.261953</td>\n",
       "      <td>5.971693</td>\n",
       "      <td>64.551686</td>\n",
       "    </tr>\n",
       "    <tr>\n",
       "      <th>50%</th>\n",
       "      <td>37.000000</td>\n",
       "      <td>51.000000</td>\n",
       "      <td>32.000000</td>\n",
       "      <td>25.598693</td>\n",
       "      <td>80.473146</td>\n",
       "      <td>6.425045</td>\n",
       "      <td>94.867624</td>\n",
       "    </tr>\n",
       "    <tr>\n",
       "      <th>75%</th>\n",
       "      <td>84.250000</td>\n",
       "      <td>68.000000</td>\n",
       "      <td>49.000000</td>\n",
       "      <td>28.561654</td>\n",
       "      <td>89.948771</td>\n",
       "      <td>6.923643</td>\n",
       "      <td>124.267508</td>\n",
       "    </tr>\n",
       "    <tr>\n",
       "      <th>max</th>\n",
       "      <td>140.000000</td>\n",
       "      <td>145.000000</td>\n",
       "      <td>205.000000</td>\n",
       "      <td>43.675493</td>\n",
       "      <td>99.981876</td>\n",
       "      <td>9.935091</td>\n",
       "      <td>298.560117</td>\n",
       "    </tr>\n",
       "  </tbody>\n",
       "</table>\n",
       "</div>"
      ],
      "text/plain": [
       "                 N            P            K  temperature     humidity  \\\n",
       "count  2200.000000  2200.000000  2200.000000  2200.000000  2200.000000   \n",
       "mean     50.551818    53.362727    48.149091    25.616244    71.481779   \n",
       "std      36.917334    32.985883    50.647931     5.063749    22.263812   \n",
       "min       0.000000     5.000000     5.000000     8.825675    14.258040   \n",
       "25%      21.000000    28.000000    20.000000    22.769375    60.261953   \n",
       "50%      37.000000    51.000000    32.000000    25.598693    80.473146   \n",
       "75%      84.250000    68.000000    49.000000    28.561654    89.948771   \n",
       "max     140.000000   145.000000   205.000000    43.675493    99.981876   \n",
       "\n",
       "                ph     rainfall  \n",
       "count  2200.000000  2200.000000  \n",
       "mean      6.469480   103.463655  \n",
       "std       0.773938    54.958389  \n",
       "min       3.504752    20.211267  \n",
       "25%       5.971693    64.551686  \n",
       "50%       6.425045    94.867624  \n",
       "75%       6.923643   124.267508  \n",
       "max       9.935091   298.560117  "
      ]
     },
     "execution_count": 5,
     "metadata": {},
     "output_type": "execute_result"
    }
   ],
   "source": [
    "crop.describe()"
   ]
  },
  {
   "cell_type": "code",
   "execution_count": 6,
   "id": "8a37d2e8-a29b-45d9-9ae7-f4347da4e0d7",
   "metadata": {},
   "outputs": [
    {
     "data": {
      "text/plain": [
       "label\n",
       "rice           100\n",
       "maize          100\n",
       "jute           100\n",
       "cotton         100\n",
       "coconut        100\n",
       "papaya         100\n",
       "orange         100\n",
       "apple          100\n",
       "muskmelon      100\n",
       "watermelon     100\n",
       "grapes         100\n",
       "mango          100\n",
       "banana         100\n",
       "pomegranate    100\n",
       "lentil         100\n",
       "blackgram      100\n",
       "mungbean       100\n",
       "mothbeans      100\n",
       "pigeonpeas     100\n",
       "kidneybeans    100\n",
       "chickpea       100\n",
       "coffee         100\n",
       "Name: count, dtype: int64"
      ]
     },
     "execution_count": 6,
     "metadata": {},
     "output_type": "execute_result"
    }
   ],
   "source": [
    "crop['label'].value_counts()"
   ]
  },
  {
   "cell_type": "markdown",
   "id": "833192d1-ec4a-48d5-ad0a-ef3a137ef45a",
   "metadata": {},
   "source": [
    "Encoding"
   ]
  },
  {
   "cell_type": "code",
   "execution_count": 7,
   "id": "c7c2ddea-5e04-45a8-8708-b523a7d94f96",
   "metadata": {},
   "outputs": [],
   "source": [
    "crop_dict = {\n",
    "    'rice': 1,\n",
    "    'maize': 2,\n",
    "    'jute': 3,\n",
    "    'cotton': 4,\n",
    "    'coconut': 5,\n",
    "    'papaya': 6,\n",
    "    'orange': 7,\n",
    "    'apple': 8,\n",
    "    'muskmelon': 9,\n",
    "    'watermelon': 10,\n",
    "    'grapes': 11,\n",
    "    'mango': 12,\n",
    "    'banana': 13,\n",
    "    'pomegranate': 14,\n",
    "    'lentil': 15,\n",
    "    'blackgram': 16,\n",
    "    'mungbean': 17,\n",
    "    'mothbeans': 18,\n",
    "    'pigeonpeas': 19,\n",
    "    'kidneybeans': 20,\n",
    "    'chickpea': 21,\n",
    "    'coffee': 22\n",
    "}\n",
    "crop['crop_num']=  crop['label'].map(crop_dict)"
   ]
  },
  {
   "cell_type": "code",
   "execution_count": 8,
   "id": "86d60ef0-ba51-4032-98a6-8c7413af6a5e",
   "metadata": {},
   "outputs": [
    {
     "data": {
      "text/plain": [
       "crop_num\n",
       "1     100\n",
       "2     100\n",
       "3     100\n",
       "4     100\n",
       "5     100\n",
       "6     100\n",
       "7     100\n",
       "8     100\n",
       "9     100\n",
       "10    100\n",
       "11    100\n",
       "12    100\n",
       "13    100\n",
       "14    100\n",
       "15    100\n",
       "16    100\n",
       "17    100\n",
       "18    100\n",
       "19    100\n",
       "20    100\n",
       "21    100\n",
       "22    100\n",
       "Name: count, dtype: int64"
      ]
     },
     "execution_count": 8,
     "metadata": {},
     "output_type": "execute_result"
    }
   ],
   "source": [
    "crop['crop_num'].value_counts()"
   ]
  },
  {
   "cell_type": "code",
   "execution_count": 9,
   "id": "3b323b56-1981-4f1a-a91e-0ee0353da44f",
   "metadata": {},
   "outputs": [
    {
     "data": {
      "text/html": [
       "<div>\n",
       "<style scoped>\n",
       "    .dataframe tbody tr th:only-of-type {\n",
       "        vertical-align: middle;\n",
       "    }\n",
       "\n",
       "    .dataframe tbody tr th {\n",
       "        vertical-align: top;\n",
       "    }\n",
       "\n",
       "    .dataframe thead th {\n",
       "        text-align: right;\n",
       "    }\n",
       "</style>\n",
       "<table border=\"1\" class=\"dataframe\">\n",
       "  <thead>\n",
       "    <tr style=\"text-align: right;\">\n",
       "      <th></th>\n",
       "      <th>N</th>\n",
       "      <th>P</th>\n",
       "      <th>K</th>\n",
       "      <th>temperature</th>\n",
       "      <th>humidity</th>\n",
       "      <th>ph</th>\n",
       "      <th>rainfall</th>\n",
       "      <th>label</th>\n",
       "      <th>crop_num</th>\n",
       "    </tr>\n",
       "  </thead>\n",
       "  <tbody>\n",
       "    <tr>\n",
       "      <th>0</th>\n",
       "      <td>90</td>\n",
       "      <td>42</td>\n",
       "      <td>43</td>\n",
       "      <td>20.879744</td>\n",
       "      <td>82.002744</td>\n",
       "      <td>6.502985</td>\n",
       "      <td>202.935536</td>\n",
       "      <td>rice</td>\n",
       "      <td>1</td>\n",
       "    </tr>\n",
       "    <tr>\n",
       "      <th>1</th>\n",
       "      <td>85</td>\n",
       "      <td>58</td>\n",
       "      <td>41</td>\n",
       "      <td>21.770462</td>\n",
       "      <td>80.319644</td>\n",
       "      <td>7.038096</td>\n",
       "      <td>226.655537</td>\n",
       "      <td>rice</td>\n",
       "      <td>1</td>\n",
       "    </tr>\n",
       "    <tr>\n",
       "      <th>2</th>\n",
       "      <td>60</td>\n",
       "      <td>55</td>\n",
       "      <td>44</td>\n",
       "      <td>23.004459</td>\n",
       "      <td>82.320763</td>\n",
       "      <td>7.840207</td>\n",
       "      <td>263.964248</td>\n",
       "      <td>rice</td>\n",
       "      <td>1</td>\n",
       "    </tr>\n",
       "    <tr>\n",
       "      <th>3</th>\n",
       "      <td>74</td>\n",
       "      <td>35</td>\n",
       "      <td>40</td>\n",
       "      <td>26.491096</td>\n",
       "      <td>80.158363</td>\n",
       "      <td>6.980401</td>\n",
       "      <td>242.864034</td>\n",
       "      <td>rice</td>\n",
       "      <td>1</td>\n",
       "    </tr>\n",
       "    <tr>\n",
       "      <th>4</th>\n",
       "      <td>78</td>\n",
       "      <td>42</td>\n",
       "      <td>42</td>\n",
       "      <td>20.130175</td>\n",
       "      <td>81.604873</td>\n",
       "      <td>7.628473</td>\n",
       "      <td>262.717340</td>\n",
       "      <td>rice</td>\n",
       "      <td>1</td>\n",
       "    </tr>\n",
       "  </tbody>\n",
       "</table>\n",
       "</div>"
      ],
      "text/plain": [
       "    N   P   K  temperature   humidity        ph    rainfall label  crop_num\n",
       "0  90  42  43    20.879744  82.002744  6.502985  202.935536  rice         1\n",
       "1  85  58  41    21.770462  80.319644  7.038096  226.655537  rice         1\n",
       "2  60  55  44    23.004459  82.320763  7.840207  263.964248  rice         1\n",
       "3  74  35  40    26.491096  80.158363  6.980401  242.864034  rice         1\n",
       "4  78  42  42    20.130175  81.604873  7.628473  262.717340  rice         1"
      ]
     },
     "execution_count": 9,
     "metadata": {},
     "output_type": "execute_result"
    }
   ],
   "source": [
    "crop.head()"
   ]
  },
  {
   "cell_type": "code",
   "execution_count": 10,
   "id": "f97cafe9-b94a-491e-ae8b-99a9f69032d1",
   "metadata": {},
   "outputs": [
    {
     "data": {
      "text/html": [
       "<div>\n",
       "<style scoped>\n",
       "    .dataframe tbody tr th:only-of-type {\n",
       "        vertical-align: middle;\n",
       "    }\n",
       "\n",
       "    .dataframe tbody tr th {\n",
       "        vertical-align: top;\n",
       "    }\n",
       "\n",
       "    .dataframe thead th {\n",
       "        text-align: right;\n",
       "    }\n",
       "</style>\n",
       "<table border=\"1\" class=\"dataframe\">\n",
       "  <thead>\n",
       "    <tr style=\"text-align: right;\">\n",
       "      <th></th>\n",
       "      <th>N</th>\n",
       "      <th>P</th>\n",
       "      <th>K</th>\n",
       "      <th>temperature</th>\n",
       "      <th>humidity</th>\n",
       "      <th>ph</th>\n",
       "      <th>rainfall</th>\n",
       "      <th>crop_num</th>\n",
       "    </tr>\n",
       "  </thead>\n",
       "  <tbody>\n",
       "    <tr>\n",
       "      <th>0</th>\n",
       "      <td>90</td>\n",
       "      <td>42</td>\n",
       "      <td>43</td>\n",
       "      <td>20.879744</td>\n",
       "      <td>82.002744</td>\n",
       "      <td>6.502985</td>\n",
       "      <td>202.935536</td>\n",
       "      <td>1</td>\n",
       "    </tr>\n",
       "    <tr>\n",
       "      <th>1</th>\n",
       "      <td>85</td>\n",
       "      <td>58</td>\n",
       "      <td>41</td>\n",
       "      <td>21.770462</td>\n",
       "      <td>80.319644</td>\n",
       "      <td>7.038096</td>\n",
       "      <td>226.655537</td>\n",
       "      <td>1</td>\n",
       "    </tr>\n",
       "    <tr>\n",
       "      <th>2</th>\n",
       "      <td>60</td>\n",
       "      <td>55</td>\n",
       "      <td>44</td>\n",
       "      <td>23.004459</td>\n",
       "      <td>82.320763</td>\n",
       "      <td>7.840207</td>\n",
       "      <td>263.964248</td>\n",
       "      <td>1</td>\n",
       "    </tr>\n",
       "    <tr>\n",
       "      <th>3</th>\n",
       "      <td>74</td>\n",
       "      <td>35</td>\n",
       "      <td>40</td>\n",
       "      <td>26.491096</td>\n",
       "      <td>80.158363</td>\n",
       "      <td>6.980401</td>\n",
       "      <td>242.864034</td>\n",
       "      <td>1</td>\n",
       "    </tr>\n",
       "    <tr>\n",
       "      <th>4</th>\n",
       "      <td>78</td>\n",
       "      <td>42</td>\n",
       "      <td>42</td>\n",
       "      <td>20.130175</td>\n",
       "      <td>81.604873</td>\n",
       "      <td>7.628473</td>\n",
       "      <td>262.717340</td>\n",
       "      <td>1</td>\n",
       "    </tr>\n",
       "  </tbody>\n",
       "</table>\n",
       "</div>"
      ],
      "text/plain": [
       "    N   P   K  temperature   humidity        ph    rainfall  crop_num\n",
       "0  90  42  43    20.879744  82.002744  6.502985  202.935536         1\n",
       "1  85  58  41    21.770462  80.319644  7.038096  226.655537         1\n",
       "2  60  55  44    23.004459  82.320763  7.840207  263.964248         1\n",
       "3  74  35  40    26.491096  80.158363  6.980401  242.864034         1\n",
       "4  78  42  42    20.130175  81.604873  7.628473  262.717340         1"
      ]
     },
     "execution_count": 10,
     "metadata": {},
     "output_type": "execute_result"
    }
   ],
   "source": [
    "crop.drop(['label'],axis=1,inplace=True)\n",
    "crop.head()"
   ]
  },
  {
   "cell_type": "markdown",
   "id": "6f44946c-b074-4d2c-8291-fd22fe39d1dc",
   "metadata": {},
   "source": [
    "Training and testing"
   ]
  },
  {
   "cell_type": "code",
   "execution_count": 11,
   "id": "f70c8774-a03b-4ca6-9e45-f06d163fc900",
   "metadata": {},
   "outputs": [],
   "source": [
    "X = crop.drop(['crop_num'],axis=1)\n",
    "y = crop['crop_num']"
   ]
  },
  {
   "cell_type": "code",
   "execution_count": 12,
   "id": "a6223ceb-c260-4c47-9cbb-bb77f0d354b3",
   "metadata": {},
   "outputs": [
    {
     "data": {
      "text/html": [
       "<div>\n",
       "<style scoped>\n",
       "    .dataframe tbody tr th:only-of-type {\n",
       "        vertical-align: middle;\n",
       "    }\n",
       "\n",
       "    .dataframe tbody tr th {\n",
       "        vertical-align: top;\n",
       "    }\n",
       "\n",
       "    .dataframe thead th {\n",
       "        text-align: right;\n",
       "    }\n",
       "</style>\n",
       "<table border=\"1\" class=\"dataframe\">\n",
       "  <thead>\n",
       "    <tr style=\"text-align: right;\">\n",
       "      <th></th>\n",
       "      <th>N</th>\n",
       "      <th>P</th>\n",
       "      <th>K</th>\n",
       "      <th>temperature</th>\n",
       "      <th>humidity</th>\n",
       "      <th>ph</th>\n",
       "      <th>rainfall</th>\n",
       "    </tr>\n",
       "  </thead>\n",
       "  <tbody>\n",
       "    <tr>\n",
       "      <th>0</th>\n",
       "      <td>90</td>\n",
       "      <td>42</td>\n",
       "      <td>43</td>\n",
       "      <td>20.879744</td>\n",
       "      <td>82.002744</td>\n",
       "      <td>6.502985</td>\n",
       "      <td>202.935536</td>\n",
       "    </tr>\n",
       "    <tr>\n",
       "      <th>1</th>\n",
       "      <td>85</td>\n",
       "      <td>58</td>\n",
       "      <td>41</td>\n",
       "      <td>21.770462</td>\n",
       "      <td>80.319644</td>\n",
       "      <td>7.038096</td>\n",
       "      <td>226.655537</td>\n",
       "    </tr>\n",
       "    <tr>\n",
       "      <th>2</th>\n",
       "      <td>60</td>\n",
       "      <td>55</td>\n",
       "      <td>44</td>\n",
       "      <td>23.004459</td>\n",
       "      <td>82.320763</td>\n",
       "      <td>7.840207</td>\n",
       "      <td>263.964248</td>\n",
       "    </tr>\n",
       "    <tr>\n",
       "      <th>3</th>\n",
       "      <td>74</td>\n",
       "      <td>35</td>\n",
       "      <td>40</td>\n",
       "      <td>26.491096</td>\n",
       "      <td>80.158363</td>\n",
       "      <td>6.980401</td>\n",
       "      <td>242.864034</td>\n",
       "    </tr>\n",
       "    <tr>\n",
       "      <th>4</th>\n",
       "      <td>78</td>\n",
       "      <td>42</td>\n",
       "      <td>42</td>\n",
       "      <td>20.130175</td>\n",
       "      <td>81.604873</td>\n",
       "      <td>7.628473</td>\n",
       "      <td>262.717340</td>\n",
       "    </tr>\n",
       "    <tr>\n",
       "      <th>...</th>\n",
       "      <td>...</td>\n",
       "      <td>...</td>\n",
       "      <td>...</td>\n",
       "      <td>...</td>\n",
       "      <td>...</td>\n",
       "      <td>...</td>\n",
       "      <td>...</td>\n",
       "    </tr>\n",
       "    <tr>\n",
       "      <th>2195</th>\n",
       "      <td>107</td>\n",
       "      <td>34</td>\n",
       "      <td>32</td>\n",
       "      <td>26.774637</td>\n",
       "      <td>66.413269</td>\n",
       "      <td>6.780064</td>\n",
       "      <td>177.774507</td>\n",
       "    </tr>\n",
       "    <tr>\n",
       "      <th>2196</th>\n",
       "      <td>99</td>\n",
       "      <td>15</td>\n",
       "      <td>27</td>\n",
       "      <td>27.417112</td>\n",
       "      <td>56.636362</td>\n",
       "      <td>6.086922</td>\n",
       "      <td>127.924610</td>\n",
       "    </tr>\n",
       "    <tr>\n",
       "      <th>2197</th>\n",
       "      <td>118</td>\n",
       "      <td>33</td>\n",
       "      <td>30</td>\n",
       "      <td>24.131797</td>\n",
       "      <td>67.225123</td>\n",
       "      <td>6.362608</td>\n",
       "      <td>173.322839</td>\n",
       "    </tr>\n",
       "    <tr>\n",
       "      <th>2198</th>\n",
       "      <td>117</td>\n",
       "      <td>32</td>\n",
       "      <td>34</td>\n",
       "      <td>26.272418</td>\n",
       "      <td>52.127394</td>\n",
       "      <td>6.758793</td>\n",
       "      <td>127.175293</td>\n",
       "    </tr>\n",
       "    <tr>\n",
       "      <th>2199</th>\n",
       "      <td>104</td>\n",
       "      <td>18</td>\n",
       "      <td>30</td>\n",
       "      <td>23.603016</td>\n",
       "      <td>60.396475</td>\n",
       "      <td>6.779833</td>\n",
       "      <td>140.937041</td>\n",
       "    </tr>\n",
       "  </tbody>\n",
       "</table>\n",
       "<p>2200 rows × 7 columns</p>\n",
       "</div>"
      ],
      "text/plain": [
       "        N   P   K  temperature   humidity        ph    rainfall\n",
       "0      90  42  43    20.879744  82.002744  6.502985  202.935536\n",
       "1      85  58  41    21.770462  80.319644  7.038096  226.655537\n",
       "2      60  55  44    23.004459  82.320763  7.840207  263.964248\n",
       "3      74  35  40    26.491096  80.158363  6.980401  242.864034\n",
       "4      78  42  42    20.130175  81.604873  7.628473  262.717340\n",
       "...   ...  ..  ..          ...        ...       ...         ...\n",
       "2195  107  34  32    26.774637  66.413269  6.780064  177.774507\n",
       "2196   99  15  27    27.417112  56.636362  6.086922  127.924610\n",
       "2197  118  33  30    24.131797  67.225123  6.362608  173.322839\n",
       "2198  117  32  34    26.272418  52.127394  6.758793  127.175293\n",
       "2199  104  18  30    23.603016  60.396475  6.779833  140.937041\n",
       "\n",
       "[2200 rows x 7 columns]"
      ]
     },
     "execution_count": 12,
     "metadata": {},
     "output_type": "execute_result"
    }
   ],
   "source": [
    "X"
   ]
  },
  {
   "cell_type": "code",
   "execution_count": 13,
   "id": "025ecfa5-c7d2-4721-bffe-2c2b9e393c31",
   "metadata": {},
   "outputs": [
    {
     "data": {
      "text/plain": [
       "0        1\n",
       "1        1\n",
       "2        1\n",
       "3        1\n",
       "4        1\n",
       "        ..\n",
       "2195    22\n",
       "2196    22\n",
       "2197    22\n",
       "2198    22\n",
       "2199    22\n",
       "Name: crop_num, Length: 2200, dtype: int64"
      ]
     },
     "execution_count": 13,
     "metadata": {},
     "output_type": "execute_result"
    }
   ],
   "source": [
    "y"
   ]
  },
  {
   "cell_type": "code",
   "execution_count": 14,
   "id": "ed5b985d-9dd1-4051-b45e-a3f605f97cf9",
   "metadata": {},
   "outputs": [
    {
     "data": {
      "text/plain": [
       "((2200, 7), (2200,))"
      ]
     },
     "execution_count": 14,
     "metadata": {},
     "output_type": "execute_result"
    }
   ],
   "source": [
    "X.shape,y.shape"
   ]
  },
  {
   "cell_type": "code",
   "execution_count": 15,
   "id": "94a49c5a-df6b-4ff8-adde-8bc408cb9642",
   "metadata": {},
   "outputs": [],
   "source": [
    "from sklearn.model_selection import train_test_split"
   ]
  },
  {
   "cell_type": "code",
   "execution_count": 16,
   "id": "258f19c8-b478-4fe3-b9ee-f244743192a7",
   "metadata": {},
   "outputs": [],
   "source": [
    "X_train, X_test, y_train, y_test = train_test_split(X, y, test_size=0.2, random_state=42)"
   ]
  },
  {
   "cell_type": "code",
   "execution_count": 17,
   "id": "5d91f68b-0efa-41eb-90b7-388d52c81428",
   "metadata": {},
   "outputs": [
    {
     "data": {
      "text/html": [
       "<div>\n",
       "<style scoped>\n",
       "    .dataframe tbody tr th:only-of-type {\n",
       "        vertical-align: middle;\n",
       "    }\n",
       "\n",
       "    .dataframe tbody tr th {\n",
       "        vertical-align: top;\n",
       "    }\n",
       "\n",
       "    .dataframe thead th {\n",
       "        text-align: right;\n",
       "    }\n",
       "</style>\n",
       "<table border=\"1\" class=\"dataframe\">\n",
       "  <thead>\n",
       "    <tr style=\"text-align: right;\">\n",
       "      <th></th>\n",
       "      <th>N</th>\n",
       "      <th>P</th>\n",
       "      <th>K</th>\n",
       "      <th>temperature</th>\n",
       "      <th>humidity</th>\n",
       "      <th>ph</th>\n",
       "      <th>rainfall</th>\n",
       "    </tr>\n",
       "  </thead>\n",
       "  <tbody>\n",
       "    <tr>\n",
       "      <th>1656</th>\n",
       "      <td>17</td>\n",
       "      <td>16</td>\n",
       "      <td>14</td>\n",
       "      <td>16.396243</td>\n",
       "      <td>92.181519</td>\n",
       "      <td>6.625539</td>\n",
       "      <td>102.944161</td>\n",
       "    </tr>\n",
       "    <tr>\n",
       "      <th>752</th>\n",
       "      <td>37</td>\n",
       "      <td>79</td>\n",
       "      <td>19</td>\n",
       "      <td>27.543848</td>\n",
       "      <td>69.347863</td>\n",
       "      <td>7.143943</td>\n",
       "      <td>69.408782</td>\n",
       "    </tr>\n",
       "    <tr>\n",
       "      <th>892</th>\n",
       "      <td>7</td>\n",
       "      <td>73</td>\n",
       "      <td>25</td>\n",
       "      <td>27.521856</td>\n",
       "      <td>63.132153</td>\n",
       "      <td>7.288057</td>\n",
       "      <td>45.208411</td>\n",
       "    </tr>\n",
       "    <tr>\n",
       "      <th>1041</th>\n",
       "      <td>101</td>\n",
       "      <td>70</td>\n",
       "      <td>48</td>\n",
       "      <td>25.360592</td>\n",
       "      <td>75.031933</td>\n",
       "      <td>6.012697</td>\n",
       "      <td>116.553145</td>\n",
       "    </tr>\n",
       "    <tr>\n",
       "      <th>1179</th>\n",
       "      <td>0</td>\n",
       "      <td>17</td>\n",
       "      <td>30</td>\n",
       "      <td>35.474783</td>\n",
       "      <td>47.972305</td>\n",
       "      <td>6.279134</td>\n",
       "      <td>97.790725</td>\n",
       "    </tr>\n",
       "    <tr>\n",
       "      <th>...</th>\n",
       "      <td>...</td>\n",
       "      <td>...</td>\n",
       "      <td>...</td>\n",
       "      <td>...</td>\n",
       "      <td>...</td>\n",
       "      <td>...</td>\n",
       "      <td>...</td>\n",
       "    </tr>\n",
       "    <tr>\n",
       "      <th>1638</th>\n",
       "      <td>10</td>\n",
       "      <td>5</td>\n",
       "      <td>5</td>\n",
       "      <td>21.213070</td>\n",
       "      <td>91.353492</td>\n",
       "      <td>7.817846</td>\n",
       "      <td>112.983436</td>\n",
       "    </tr>\n",
       "    <tr>\n",
       "      <th>1095</th>\n",
       "      <td>108</td>\n",
       "      <td>94</td>\n",
       "      <td>47</td>\n",
       "      <td>27.359116</td>\n",
       "      <td>84.546250</td>\n",
       "      <td>6.387431</td>\n",
       "      <td>90.812505</td>\n",
       "    </tr>\n",
       "    <tr>\n",
       "      <th>1130</th>\n",
       "      <td>11</td>\n",
       "      <td>36</td>\n",
       "      <td>31</td>\n",
       "      <td>27.920633</td>\n",
       "      <td>51.779659</td>\n",
       "      <td>6.475449</td>\n",
       "      <td>100.258567</td>\n",
       "    </tr>\n",
       "    <tr>\n",
       "      <th>1294</th>\n",
       "      <td>11</td>\n",
       "      <td>124</td>\n",
       "      <td>204</td>\n",
       "      <td>13.429886</td>\n",
       "      <td>80.066340</td>\n",
       "      <td>6.361141</td>\n",
       "      <td>71.400430</td>\n",
       "    </tr>\n",
       "    <tr>\n",
       "      <th>860</th>\n",
       "      <td>32</td>\n",
       "      <td>78</td>\n",
       "      <td>22</td>\n",
       "      <td>23.970814</td>\n",
       "      <td>62.355576</td>\n",
       "      <td>7.007038</td>\n",
       "      <td>53.409060</td>\n",
       "    </tr>\n",
       "  </tbody>\n",
       "</table>\n",
       "<p>1760 rows × 7 columns</p>\n",
       "</div>"
      ],
      "text/plain": [
       "        N    P    K  temperature   humidity        ph    rainfall\n",
       "1656   17   16   14    16.396243  92.181519  6.625539  102.944161\n",
       "752    37   79   19    27.543848  69.347863  7.143943   69.408782\n",
       "892     7   73   25    27.521856  63.132153  7.288057   45.208411\n",
       "1041  101   70   48    25.360592  75.031933  6.012697  116.553145\n",
       "1179    0   17   30    35.474783  47.972305  6.279134   97.790725\n",
       "...   ...  ...  ...          ...        ...       ...         ...\n",
       "1638   10    5    5    21.213070  91.353492  7.817846  112.983436\n",
       "1095  108   94   47    27.359116  84.546250  6.387431   90.812505\n",
       "1130   11   36   31    27.920633  51.779659  6.475449  100.258567\n",
       "1294   11  124  204    13.429886  80.066340  6.361141   71.400430\n",
       "860    32   78   22    23.970814  62.355576  7.007038   53.409060\n",
       "\n",
       "[1760 rows x 7 columns]"
      ]
     },
     "execution_count": 17,
     "metadata": {},
     "output_type": "execute_result"
    }
   ],
   "source": [
    "X_train"
   ]
  },
  {
   "cell_type": "code",
   "execution_count": 18,
   "id": "25ee185b-2bf7-47f6-a031-2e47b593f4e0",
   "metadata": {},
   "outputs": [
    {
     "data": {
      "text/plain": [
       "(1760, 7)"
      ]
     },
     "execution_count": 18,
     "metadata": {},
     "output_type": "execute_result"
    }
   ],
   "source": [
    "X_train.shape"
   ]
  },
  {
   "cell_type": "code",
   "execution_count": 19,
   "id": "567c0179-e335-43c1-bfc2-599c5df7e0b8",
   "metadata": {},
   "outputs": [
    {
     "data": {
      "text/plain": [
       "(440, 7)"
      ]
     },
     "execution_count": 19,
     "metadata": {},
     "output_type": "execute_result"
    }
   ],
   "source": [
    "X_test.shape"
   ]
  },
  {
   "cell_type": "markdown",
   "id": "ef139d53-78f1-49dd-8550-e725469b4320",
   "metadata": {},
   "source": [
    "Scaling the fetures using MinMaxScaler"
   ]
  },
  {
   "cell_type": "code",
   "execution_count": 20,
   "id": "8655c836-8da0-4988-ab24-693f4b29f9db",
   "metadata": {},
   "outputs": [],
   "source": [
    "\n",
    "from sklearn.preprocessing import MinMaxScaler\n",
    "ms = MinMaxScaler()\n",
    "\n",
    "ms.fit(X_train)\n",
    "\n",
    "X_train = ms.fit_transform(X_train)\n",
    "X_test = ms.transform(X_test)"
   ]
  },
  {
   "cell_type": "code",
   "execution_count": 21,
   "id": "a22c36f2-c88d-43a3-b849-1844ca8547d7",
   "metadata": {},
   "outputs": [
    {
     "data": {
      "text/plain": [
       "array([[0.12142857, 0.07857143, 0.045     , ..., 0.9089898 , 0.48532225,\n",
       "        0.29685161],\n",
       "       [0.26428571, 0.52857143, 0.07      , ..., 0.64257946, 0.56594073,\n",
       "        0.17630752],\n",
       "       [0.05      , 0.48571429, 0.1       , ..., 0.57005802, 0.58835229,\n",
       "        0.08931844],\n",
       "       ...,\n",
       "       [0.07857143, 0.22142857, 0.13      , ..., 0.43760347, 0.46198144,\n",
       "        0.28719815],\n",
       "       [0.07857143, 0.85      , 0.995     , ..., 0.76763665, 0.44420505,\n",
       "        0.18346657],\n",
       "       [0.22857143, 0.52142857, 0.085     , ..., 0.56099735, 0.54465022,\n",
       "        0.11879596]])"
      ]
     },
     "execution_count": 21,
     "metadata": {},
     "output_type": "execute_result"
    }
   ],
   "source": [
    "X_train"
   ]
  },
  {
   "cell_type": "markdown",
   "id": "a21be38e-a557-46d8-a9b0-cac039d06dec",
   "metadata": {},
   "source": [
    "Standarization"
   ]
  },
  {
   "cell_type": "code",
   "execution_count": 22,
   "id": "97598696-d9d2-44fc-9ef4-36a4e6410939",
   "metadata": {},
   "outputs": [],
   "source": [
    "\n",
    "from sklearn.preprocessing import StandardScaler\n",
    "sc = StandardScaler()\n",
    "\n",
    "sc.fit(X_train)\n",
    "X_train = sc.fit_transform(X_train)\n",
    "X_test = sc.transform(X_test)"
   ]
  },
  {
   "cell_type": "code",
   "execution_count": 23,
   "id": "63bbca32-6ea5-464b-a18f-97b088f55ad6",
   "metadata": {},
   "outputs": [
    {
     "data": {
      "text/plain": [
       "array([[-9.03426596e-01, -1.12616170e+00, -6.68506601e-01, ...,\n",
       "         9.36586183e-01,  1.93473784e-01,  5.14970176e-03],\n",
       "       [-3.67051340e-01,  7.70358846e-01, -5.70589522e-01, ...,\n",
       "        -1.00470485e-01,  8.63917548e-01, -6.05290566e-01],\n",
       "       [-1.17161422e+00,  5.89737842e-01, -4.53089028e-01, ...,\n",
       "        -3.82774991e-01,  1.05029771e+00, -1.04580687e+00],\n",
       "       ...,\n",
       "       [-1.06433917e+00, -5.24091685e-01, -3.35588533e-01, ...,\n",
       "        -8.98381379e-01, -6.34357580e-04, -4.37358211e-02],\n",
       "       [-1.06433917e+00,  2.12501638e+00,  3.05234239e+00, ...,\n",
       "         3.86340190e-01, -1.48467347e-01, -5.69036842e-01],\n",
       "       [-5.01145154e-01,  7.40255346e-01, -5.11839275e-01, ...,\n",
       "        -4.18045489e-01,  6.86860180e-01, -8.96531475e-01]])"
      ]
     },
     "execution_count": 23,
     "metadata": {},
     "output_type": "execute_result"
    }
   ],
   "source": [
    "X_train\n"
   ]
  },
  {
   "cell_type": "markdown",
   "id": "c0a3f558-6a70-4646-82c9-6977a8609b53",
   "metadata": {},
   "source": [
    "Training Model"
   ]
  },
  {
   "cell_type": "code",
   "execution_count": 24,
   "id": "aba5f750-2623-44ac-b626-aa828c394390",
   "metadata": {},
   "outputs": [
    {
     "name": "stdout",
     "output_type": "stream",
     "text": [
      "Logistic Regression  with accuracy : 0.9636363636363636\n",
      "Naive Bayes  with accuracy : 0.9954545454545455\n",
      "Support Vector Machine  with accuracy : 0.9681818181818181\n",
      "K-Nearest Neighbors  with accuracy : 0.9590909090909091\n",
      "Decision Tree  with accuracy : 0.9863636363636363\n",
      "Random Forest  with accuracy : 0.9931818181818182\n",
      "Bagging  with accuracy : 0.990909090909091\n"
     ]
    },
    {
     "name": "stderr",
     "output_type": "stream",
     "text": [
      "D:\\VS\\Lib\\site-packages\\sklearn\\ensemble\\_weight_boosting.py:527: FutureWarning: The SAMME.R algorithm (the default) is deprecated and will be removed in 1.6. Use the SAMME algorithm to circumvent this warning.\n",
      "  warnings.warn(\n"
     ]
    },
    {
     "name": "stdout",
     "output_type": "stream",
     "text": [
      "AdaBoost  with accuracy : 0.1409090909090909\n",
      "Gradient Boosting  with accuracy : 0.9818181818181818\n",
      "Extra Trees  with accuracy : 0.925\n"
     ]
    }
   ],
   "source": [
    "from sklearn.linear_model import LogisticRegression\n",
    "from sklearn.naive_bayes import GaussianNB\n",
    "from sklearn.svm import SVC\n",
    "from sklearn.neighbors import KNeighborsClassifier\n",
    "from sklearn.tree import DecisionTreeClassifier\n",
    "from sklearn.tree import ExtraTreeClassifier\n",
    "from sklearn.ensemble import RandomForestClassifier\n",
    "from sklearn.ensemble import BaggingClassifier\n",
    "from sklearn.ensemble import GradientBoostingClassifier\n",
    "from sklearn.ensemble import AdaBoostClassifier\n",
    "from sklearn.metrics import accuracy_score,confusion_matrix\n",
    "\n",
    "\n",
    "# create instances of all models\n",
    "models = {\n",
    "    'Logistic Regression': LogisticRegression(),\n",
    "    'Naive Bayes': GaussianNB(),\n",
    "    'Support Vector Machine': SVC(),\n",
    "    'K-Nearest Neighbors': KNeighborsClassifier(),\n",
    "    'Decision Tree': DecisionTreeClassifier(),\n",
    "    'Random Forest': RandomForestClassifier(),\n",
    "    'Bagging': BaggingClassifier(),\n",
    "    'AdaBoost': AdaBoostClassifier(),\n",
    "    'Gradient Boosting': GradientBoostingClassifier(),\n",
    "    'Extra Trees': ExtraTreeClassifier(),\n",
    "}\n",
    "\n",
    "\n",
    "for name, model in models.items():\n",
    "    model.fit(X_train,y_train)\n",
    "    ypred = model.predict(X_test)\n",
    "    \n",
    "    print(f\"{name}  with accuracy : {accuracy_score(y_test,ypred)}\")"
   ]
  },
  {
   "cell_type": "code",
   "execution_count": 25,
   "id": "973a74bc-f6fc-4c17-b951-bf10938bc1a8",
   "metadata": {},
   "outputs": [
    {
     "data": {
      "text/plain": [
       "0.9931818181818182"
      ]
     },
     "execution_count": 25,
     "metadata": {},
     "output_type": "execute_result"
    }
   ],
   "source": [
    "# finally selected randomforest model\n",
    "\n",
    "rfc = RandomForestClassifier()\n",
    "rfc.fit(X_train,y_train)\n",
    "ypred = rfc.predict(X_test)\n",
    "accuracy_score(y_test,ypred)"
   ]
  },
  {
   "cell_type": "markdown",
   "id": "8ee67ae3-4927-46e4-af4c-347f4b85094a",
   "metadata": {},
   "source": [
    "Predictive System"
   ]
  },
  {
   "cell_type": "code",
   "execution_count": 26,
   "id": "4e95bfd5-7ca4-4ce7-847a-ffbc9368931a",
   "metadata": {},
   "outputs": [],
   "source": [
    "def recommendation(N, P, k, temperature, humidity, ph, rainfall):\n",
    "    features = np.array([[N, P, k, temperature, humidity, ph, rainfall]])\n",
    "    prediction = rfc.predict(features)\n",
    "    return prediction[0]  # Return the single predicted value\n"
   ]
  },
  {
   "cell_type": "code",
   "execution_count": 27,
   "id": "d61d2b69-895d-4c06-9bdb-66da9ad18fb4",
   "metadata": {},
   "outputs": [
    {
     "name": "stdout",
     "output_type": "stream",
     "text": [
      "Apple is a best crop to be cultivated \n"
     ]
    }
   ],
   "source": [
    "# new inputs\n",
    "\n",
    "\n",
    "N = 90\n",
    "P = 80\n",
    "k = 60\n",
    "temperature = 40.0\n",
    "humidity = 80\n",
    "ph = 30\n",
    "rainfall = 50\n",
    "\n",
    "predict = recommendation(N,P,k,temperature,humidity,ph,rainfall)\n",
    "\n",
    "crop_dict = {1: \"Rice\", 2: \"Maize\", 3: \"Jute\", 4: \"Cotton\", 5: \"Coconut\", 6: \"Papaya\", 7: \"Orange\",\n",
    "                 8: \"Apple\", 9: \"Muskmelon\", 10: \"Watermelon\", 11: \"Grapes\", 12: \"Mango\", 13: \"Banana\",\n",
    "                 14: \"Pomegranate\", 15: \"Lentil\", 16: \"Blackgram\", 17: \"Mungbean\", 18: \"Mothbeans\",\n",
    "                 19: \"Pigeonpeas\", 20: \"Kidneybeans\", 21: \"Chickpea\", 22: \"Coffee\"}\n",
    "\n",
    "if predict in crop_dict:\n",
    "    crop = crop_dict[predict]\n",
    "    print(\"{} is a best crop to be cultivated \".format(crop))\n",
    "else:\n",
    "    print(\"Sorry are not able to recommend a proper crop for this environment\")"
   ]
  },
  {
   "cell_type": "code",
   "execution_count": 29,
   "id": "2ceec975-627b-4f7c-8c6d-aae02b63dab9",
   "metadata": {},
   "outputs": [],
   "source": [
    "import pickle\n",
    "pickle.dump(rfc,open('model1.pkl','wb'))\n",
    "pickle.dump(ms,open('minmaxscaler1.pkl','wb'))\n",
    "pickle.dump(sc,open('standscaler1.pkl','wb'))"
   ]
  },
  {
   "cell_type": "code",
   "execution_count": null,
   "id": "fd7540e2-8301-4559-8cd7-102acc4b2007",
   "metadata": {},
   "outputs": [],
   "source": []
  },
  {
   "cell_type": "code",
   "execution_count": null,
   "id": "fdfd4ca2-b62e-4914-80c1-811a61b683d9",
   "metadata": {},
   "outputs": [],
   "source": []
  },
  {
   "cell_type": "code",
   "execution_count": null,
   "id": "124c81a5-4ed6-4343-8d0b-6cbb493c8580",
   "metadata": {},
   "outputs": [],
   "source": []
  },
  {
   "cell_type": "code",
   "execution_count": null,
   "id": "15a3d84d-b620-4cd2-89a4-2993a929bfb1",
   "metadata": {},
   "outputs": [],
   "source": []
  }
 ],
 "metadata": {
  "kernelspec": {
   "display_name": "Python 3 (ipykernel)",
   "language": "python",
   "name": "python3"
  },
  "language_info": {
   "codemirror_mode": {
    "name": "ipython",
    "version": 3
   },
   "file_extension": ".py",
   "mimetype": "text/x-python",
   "name": "python",
   "nbconvert_exporter": "python",
   "pygments_lexer": "ipython3",
   "version": "3.12.6"
  }
 },
 "nbformat": 4,
 "nbformat_minor": 5
}
